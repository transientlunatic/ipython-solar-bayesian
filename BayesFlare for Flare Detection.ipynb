{
 "metadata": {
  "name": "",
  "signature": "sha256:0c0e78211a80ec2b05f700cf544a15c69fc5a2c4ec67043a69a57fc41fe67b85"
 },
 "nbformat": 3,
 "nbformat_minor": 0,
 "worksheets": [
  {
   "cells": [
    {
     "cell_type": "markdown",
     "metadata": {},
     "source": [
      "Using Python and Bayesian Inference for Solar Flare Detection\n",
      "=============================================================\n",
      "Daniel Williams, _School of Physics & Astronomy, University of Glasgow_"
     ]
    },
    {
     "cell_type": "markdown",
     "metadata": {},
     "source": [
      "## Introduction\n",
      "This project was a continuation of work carried out on data from the _Kepler_ mission, a high-precision photometric observatory which was designed to identify exoplanets, and produce asteroseismological data. The BayesFlare package contains a number of routines which are designed for working with this data, and in the course of this project a number of new methods were developed to allow solar data to be input to the inference algorithms.\n",
      "\n",
      "Solar flare detection methods traditionally rely on a fairly staright-forward method of searching for events which exceed a given sigma value for the light curve, and pay little or no attention to the physical properties of the event (which show up as the shape of the event in a plot.) The method used here _does_ use this information."
     ]
    },
    {
     "cell_type": "code",
     "collapsed": false,
     "input": [],
     "language": "python",
     "metadata": {},
     "outputs": []
    },
    {
     "cell_type": "code",
     "collapsed": false,
     "input": [],
     "language": "python",
     "metadata": {},
     "outputs": []
    }
   ],
   "metadata": {}
  }
 ]
}